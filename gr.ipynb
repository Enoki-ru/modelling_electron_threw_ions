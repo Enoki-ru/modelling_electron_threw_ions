{
 "cells": [
  {
   "cell_type": "code",
   "execution_count": 5,
   "metadata": {},
   "outputs": [],
   "source": [
    "import pandas as pd\n",
    "import numpy as np\n",
    "import matplotlib.pyplot as plt\n",
    "import seaborn as sns\n",
    "\n"
   ]
  },
  {
   "cell_type": "code",
   "execution_count": 6,
   "metadata": {},
   "outputs": [
    {
     "name": "stdout",
     "output_type": "stream",
     "text": [
      "0      -1.000000e-10\n",
      "1      -1.000000e-10\n",
      "2      -1.000000e-10\n",
      "3      -1.000000e-10\n",
      "4      -1.000000e-10\n",
      "            ...     \n",
      "3942   -1.017481e-10\n",
      "3943   -1.017489e-10\n",
      "3944   -1.017498e-10\n",
      "3945   -1.017507e-10\n",
      "3946   -1.017516e-10\n",
      "Name: X, Length: 3947, dtype: float64\n"
     ]
    }
   ],
   "source": [
    "db=pd.read_csv('x.csv')\n",
    "x=db.iloc[:,0]\n",
    "print(x)"
   ]
  },
  {
   "cell_type": "code",
   "execution_count": 7,
   "metadata": {},
   "outputs": [
    {
     "data": {
      "text/html": [
       "<div>\n",
       "<style scoped>\n",
       "    .dataframe tbody tr th:only-of-type {\n",
       "        vertical-align: middle;\n",
       "    }\n",
       "\n",
       "    .dataframe tbody tr th {\n",
       "        vertical-align: top;\n",
       "    }\n",
       "\n",
       "    .dataframe thead th {\n",
       "        text-align: right;\n",
       "    }\n",
       "</style>\n",
       "<table border=\"1\" class=\"dataframe\">\n",
       "  <thead>\n",
       "    <tr style=\"text-align: right;\">\n",
       "      <th></th>\n",
       "      <th>X</th>\n",
       "      <th>Y</th>\n",
       "      <th>Z</th>\n",
       "    </tr>\n",
       "  </thead>\n",
       "  <tbody>\n",
       "    <tr>\n",
       "      <th>0</th>\n",
       "      <td>-1.000000e-10</td>\n",
       "      <td>1.000000e-10</td>\n",
       "      <td>1.000000e-10</td>\n",
       "    </tr>\n",
       "    <tr>\n",
       "      <th>1</th>\n",
       "      <td>-1.000000e-10</td>\n",
       "      <td>1.000000e-10</td>\n",
       "      <td>1.020000e-10</td>\n",
       "    </tr>\n",
       "    <tr>\n",
       "      <th>2</th>\n",
       "      <td>-1.000000e-10</td>\n",
       "      <td>1.000000e-10</td>\n",
       "      <td>1.040000e-10</td>\n",
       "    </tr>\n",
       "    <tr>\n",
       "      <th>3</th>\n",
       "      <td>-1.000000e-10</td>\n",
       "      <td>1.000000e-10</td>\n",
       "      <td>1.060000e-10</td>\n",
       "    </tr>\n",
       "    <tr>\n",
       "      <th>4</th>\n",
       "      <td>-1.000000e-10</td>\n",
       "      <td>1.000000e-10</td>\n",
       "      <td>1.080000e-10</td>\n",
       "    </tr>\n",
       "    <tr>\n",
       "      <th>...</th>\n",
       "      <td>...</td>\n",
       "      <td>...</td>\n",
       "      <td>...</td>\n",
       "    </tr>\n",
       "    <tr>\n",
       "      <th>3942</th>\n",
       "      <td>-1.017481e-10</td>\n",
       "      <td>1.000052e-10</td>\n",
       "      <td>7.991559e-09</td>\n",
       "    </tr>\n",
       "    <tr>\n",
       "      <th>3943</th>\n",
       "      <td>-1.017489e-10</td>\n",
       "      <td>1.000052e-10</td>\n",
       "      <td>7.993562e-09</td>\n",
       "    </tr>\n",
       "    <tr>\n",
       "      <th>3944</th>\n",
       "      <td>-1.017498e-10</td>\n",
       "      <td>1.000052e-10</td>\n",
       "      <td>7.995564e-09</td>\n",
       "    </tr>\n",
       "    <tr>\n",
       "      <th>3945</th>\n",
       "      <td>-1.017507e-10</td>\n",
       "      <td>1.000052e-10</td>\n",
       "      <td>7.997567e-09</td>\n",
       "    </tr>\n",
       "    <tr>\n",
       "      <th>3946</th>\n",
       "      <td>-1.017516e-10</td>\n",
       "      <td>1.000052e-10</td>\n",
       "      <td>7.999570e-09</td>\n",
       "    </tr>\n",
       "  </tbody>\n",
       "</table>\n",
       "<p>3947 rows × 3 columns</p>\n",
       "</div>"
      ],
      "text/plain": [
       "                 X             Y             Z\n",
       "0    -1.000000e-10  1.000000e-10  1.000000e-10\n",
       "1    -1.000000e-10  1.000000e-10  1.020000e-10\n",
       "2    -1.000000e-10  1.000000e-10  1.040000e-10\n",
       "3    -1.000000e-10  1.000000e-10  1.060000e-10\n",
       "4    -1.000000e-10  1.000000e-10  1.080000e-10\n",
       "...            ...           ...           ...\n",
       "3942 -1.017481e-10  1.000052e-10  7.991559e-09\n",
       "3943 -1.017489e-10  1.000052e-10  7.993562e-09\n",
       "3944 -1.017498e-10  1.000052e-10  7.995564e-09\n",
       "3945 -1.017507e-10  1.000052e-10  7.997567e-09\n",
       "3946 -1.017516e-10  1.000052e-10  7.999570e-09\n",
       "\n",
       "[3947 rows x 3 columns]"
      ]
     },
     "execution_count": 7,
     "metadata": {},
     "output_type": "execute_result"
    }
   ],
   "source": [
    "db"
   ]
  },
  {
   "cell_type": "code",
   "execution_count": null,
   "metadata": {},
   "outputs": [],
   "source": [
    "plt.figure(figsize=(6,5))\n",
    "axes = plt.axes(projection='3d')\n",
    "axes.plot3D(db['X'],db['Y'],db['Z'])"
   ]
  },
  {
   "cell_type": "code",
   "execution_count": 8,
   "metadata": {},
   "outputs": [
    {
     "data": {
      "text/plain": [
       "<AxesSubplot: xlabel='X', ylabel='Y'>"
      ]
     },
     "execution_count": 8,
     "metadata": {},
     "output_type": "execute_result"
    },
    {
     "data": {
      "image/png": "[encoded data removed]",
      "text/plain": [
       "<Figure size 640x480 with 1 Axes>"
      ]
     },
     "metadata": {},
     "output_type": "display_data"
    }
   ],
   "source": [
    "# sns.lineplot(data=db,x='X',y='Y')\n"
   ]
  }
 ],
 "metadata": {
  "kernelspec": {
   "display_name": "Python 3",
   "language": "python",
   "name": "python3"
  },
  "language_info": {
   "codemirror_mode": {
    "name": "ipython",
    "version": 3
   },
   "file_extension": ".py",
   "mimetype": "text/x-python",
   "name": "python",
   "nbconvert_exporter": "python",
   "pygments_lexer": "ipython3",
   "version": "3.10.5"
  },
  "orig_nbformat": 4
 },
 "nbformat": 4,
 "nbformat_minor": 2
}
